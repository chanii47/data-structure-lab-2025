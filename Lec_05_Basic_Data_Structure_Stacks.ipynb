{
  "nbformat": 4,
  "nbformat_minor": 0,
  "metadata": {
    "colab": {
      "provenance": [],
      "authorship_tag": "ABX9TyMUjXVm2K/3zZEA2OpCsD9C",
      "include_colab_link": true
    },
    "kernelspec": {
      "name": "python3",
      "display_name": "Python 3"
    },
    "language_info": {
      "name": "python"
    }
  },
  "cells": [
    {
      "cell_type": "markdown",
      "metadata": {
        "id": "view-in-github",
        "colab_type": "text"
      },
      "source": [
        "<a href=\"https://colab.research.google.com/github/chanii47/data-structure-lab-2025/blob/master/Lec_05_Basic_Data_Structure_Stacks.ipynb\" target=\"_parent\"><img src=\"https://colab.research.google.com/assets/colab-badge.svg\" alt=\"Open In Colab\"/></a>"
      ]
    },
    {
      "cell_type": "code",
      "execution_count": 2,
      "metadata": {
        "collapsed": true,
        "id": "oh3RvssY1fCI"
      },
      "outputs": [],
      "source": [
        "class Stack:\n",
        "  def _init_(self):\n",
        "    self.items = []\n",
        "\n",
        "  def is_empty(self):\n",
        "    return self.items == []\n",
        "\n",
        "  def push(self, item):\n",
        "    self.items.append(item)\n",
        "\n",
        "  def pop(self):\n",
        "    return self.items.pop()\n",
        "\n",
        "  def peek(self):\n",
        "    return self.items[len(self.items)-1]\n",
        "\n",
        "  def size(self):\n",
        "    return len(self.items)\n",
        "\n",
        "  def pop_all(self):\n",
        "    self.items.clear()\n"
      ]
    },
    {
      "cell_type": "code",
      "source": [
        "class Stack2:\n",
        "  def _init_(self):\n",
        "    self.items = []\n",
        "\n",
        "  def is_empty(self):\n",
        "    return self.items == []\n",
        "\n",
        "  def push(self, item):\n",
        "    self.items.insert(0, item)\n",
        "\n",
        "  def pop(self):\n",
        "    return self.items.pop(0)\n",
        "\n",
        "  def peek(self):\n",
        "    return self.items[0]\n",
        "\n",
        "  def size(self):\n",
        "    return len(self.items)\n",
        "\n",
        "  def pop_all(self):\n",
        "    self.items.clear()\n",
        "\n"
      ],
      "metadata": {
        "id": "ZxcDwhJJ3OBn"
      },
      "execution_count": 6,
      "outputs": []
    },
    {
      "cell_type": "code",
      "source": [
        "def par_checker(symbol_string):\n",
        "  s = Stack()\n",
        "  balanced = True\n",
        "  index = 0\n",
        "\n",
        "  while index < len(symbol_string) and balanced:\n",
        "    symbol = symbol_string[index]\n",
        "    if symbol == \"(\" :\n",
        "      s.push(symbol)\n",
        "    else:\n",
        "      if s.is_empty():\n",
        "        balanced = False\n",
        "      else: s.pop()\n",
        "\n",
        "    index = index +1\n",
        "\n",
        "  if balanced and s.is_empty():\n",
        "    return True\n",
        "  else:\n",
        "    return False"
      ],
      "metadata": {
        "id": "g4b4GB634iCN"
      },
      "execution_count": 5,
      "outputs": []
    },
    {
      "cell_type": "code",
      "source": [],
      "metadata": {
        "id": "mhZuUG0c5aVo"
      },
      "execution_count": null,
      "outputs": []
    }
  ]
}