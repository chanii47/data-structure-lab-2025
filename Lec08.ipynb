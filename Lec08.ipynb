{
  "nbformat": 4,
  "nbformat_minor": 0,
  "metadata": {
    "colab": {
      "provenance": [],
      "authorship_tag": "ABX9TyOwLZ/Y9rQ27jdqvW53/anp",
      "include_colab_link": true
    },
    "kernelspec": {
      "name": "python3",
      "display_name": "Python 3"
    },
    "language_info": {
      "name": "python"
    }
  },
  "cells": [
    {
      "cell_type": "markdown",
      "metadata": {
        "id": "view-in-github",
        "colab_type": "text"
      },
      "source": [
        "<a href=\"https://colab.research.google.com/github/chanii47/data-structure-lab-2025/blob/master/Lec08.ipynb\" target=\"_parent\"><img src=\"https://colab.research.google.com/assets/colab-badge.svg\" alt=\"Open In Colab\"/></a>"
      ]
    },
    {
      "cell_type": "code",
      "execution_count": 18,
      "metadata": {
        "id": "phA2IYy1CYVj"
      },
      "outputs": [],
      "source": [
        "def insertion_sort(a_list):\n",
        "    for index in range(1, len(a_list)):\n",
        "        current_value = a_list[index]\n",
        "        position = index\n",
        "\n",
        "        while position > 0 and a_list[position - 1] > current_value:\n",
        "            a_list[position] = a_list[position - 1]\n",
        "            position = position - 1\n",
        "\n",
        "        a_list[position] = current_value\n"
      ]
    },
    {
      "cell_type": "code",
      "source": [
        "def quick_sort(a_list):\n",
        "    quick_sort_helper(a_list, 0, len(a_list) - 1)\n",
        "\n",
        "def quick_sort_helper(a_list, first, last):\n",
        "    if first < last:\n",
        "\n",
        "        split_point = partition(a_list, first, last)\n",
        "\n",
        "        quick_sort_helper(a_list, first, split_point - 1)\n",
        "        quick_sort_helper(a_list, split_point + 1, last)\n",
        "\n",
        "def partition(a_list, first, last):\n",
        "    pivot_value = a_list[first]\n",
        "    left_mark = first + 1\n",
        "    right_mark = last\n",
        "    done = False\n",
        "\n",
        "    while not done:\n",
        "        while left_mark <= right_mark and a_list[left_mark] <= pivot_value:\n",
        "            left_mark = left_mark + 1\n",
        "\n",
        "        while a_list[right_mark] >= pivot_value and right_mark >= left_mark:\n",
        "            right_mark = right_mark - 1\n",
        "\n",
        "        if right_mark < left_mark:\n",
        "            done = True\n",
        "        else:\n",
        "            temp = a_list[left_mark]\n",
        "            a_list[left_mark] = a_list[right_mark]\n",
        "            a_list[right_mark] = temp\n",
        "\n",
        "\n",
        "    temp = a_list[first]\n",
        "    a_list[first] = a_list[right_mark]\n",
        "    a_list[right_mark] = temp\n",
        "\n",
        "    return right_mark"
      ],
      "metadata": {
        "id": "_cUQ1fmVC0kP"
      },
      "execution_count": 15,
      "outputs": []
    }
  ]
}